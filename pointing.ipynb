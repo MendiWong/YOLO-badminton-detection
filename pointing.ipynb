{
 "cells": [
  {
   "cell_type": "code",
   "execution_count": 2,
   "metadata": {},
   "outputs": [
    {
     "name": "stdout",
     "output_type": "stream",
     "text": [
      "请点击场地的四个角点...\n",
      "Point selected: (640, 572)\n",
      "Point selected: (1292, 574)\n",
      "Point selected: (330, 1027)\n",
      "Point selected: (1598, 1037)\n",
      "场地的角点坐标为： [(640, 572), (1292, 574), (330, 1027), (1598, 1037)]\n"
     ]
    }
   ],
   "source": [
    "import cv2\n",
    "\n",
    "# 读取视频的某一帧\n",
    "cap = cv2.VideoCapture(r\"D:\\YOLO-badminton-code\\badminton.mp4\")\n",
    "ret, frame = cap.read()\n",
    "cap.release()\n",
    "\n",
    "# 存储场地角点的坐标\n",
    "court_points = []\n",
    "\n",
    "# 定义鼠标点击事件回调函数\n",
    "def get_points(event, x, y, flags, param):\n",
    "    if event == cv2.EVENT_LBUTTONDOWN:\n",
    "        # 左键点击获取坐标\n",
    "        court_points.append((x, y))\n",
    "        print(f\"Point selected: ({x}, {y})\")\n",
    "        # 在图像上绘制标记\n",
    "        cv2.circle(frame, (x, y), 5, (0, 0, 255), -1)\n",
    "        cv2.imshow(\"Select Court Corners\", frame)\n",
    "\n",
    "# 创建窗口并绑定鼠标事件\n",
    "cv2.namedWindow(\"Select Court Corners\", cv2.WINDOW_NORMAL)  # 创建一个可调整大小的窗口\n",
    "cv2.imshow(\"Select Court Corners\", frame)\n",
    "cv2.setMouseCallback(\"Select Court Corners\", get_points)\n",
    "\n",
    "# 等待用户选择四个角点\n",
    "print(\"请点击场地的四个角点...\")\n",
    "cv2.waitKey(0)\n",
    "cv2.destroyAllWindows()\n",
    "\n",
    "# 输出角点坐标\n",
    "if len(court_points) == 4:\n",
    "    print(\"场地的角点坐标为：\", court_points)\n",
    "else:\n",
    "    print(\"请选择四个角点！\")\n"
   ]
  },
  {
   "cell_type": "code",
   "execution_count": 3,
   "metadata": {},
   "outputs": [
    {
     "name": "stdout",
     "output_type": "stream",
     "text": [
      "请点击场地的四个角点...\n",
      "Point selected: (1512, 40)\n",
      "Point selected: (1839, 33)\n",
      "Point selected: (1504, 526)\n",
      "Point selected: (1840, 533)\n",
      "场地的角点坐标为： [(1512, 40), (1839, 33), (1504, 526), (1840, 533)]\n"
     ]
    }
   ],
   "source": [
    "import cv2\n",
    "\n",
    "# 读取视频的某一帧\n",
    "cap = cv2.VideoCapture(r\"D:\\YOLO-badminton-code\\badminton.mp4\")\n",
    "ret, frame = cap.read()\n",
    "cap.release()\n",
    "\n",
    "# 存储场地角点的坐标\n",
    "court_points = []\n",
    "\n",
    "# 定义鼠标点击事件回调函数\n",
    "def get_points(event, x, y, flags, param):\n",
    "    if event == cv2.EVENT_LBUTTONDOWN:\n",
    "        # 左键点击获取坐标\n",
    "        court_points.append((x, y))\n",
    "        print(f\"Point selected: ({x}, {y})\")\n",
    "        # 在图像上绘制标记\n",
    "        cv2.circle(frame, (x, y), 5, (0, 0, 255), -1)\n",
    "        cv2.imshow(\"Select Court Corners\", frame)\n",
    "\n",
    "# 创建窗口并绑定鼠标事件\n",
    "cv2.namedWindow(\"Select Court Corners\", cv2.WINDOW_NORMAL)  # 创建一个可调整大小的窗口\n",
    "cv2.imshow(\"Select Court Corners\", frame)\n",
    "cv2.setMouseCallback(\"Select Court Corners\", get_points)\n",
    "\n",
    "# 等待用户选择四个角点\n",
    "print(\"请点击场地的四个角点...\")\n",
    "cv2.waitKey(0)\n",
    "cv2.destroyAllWindows()\n",
    "\n",
    "# 输出角点坐标\n",
    "if len(court_points) == 4:\n",
    "    print(\"场地的角点坐标为：\", court_points)\n",
    "else:\n",
    "    print(\"请选择四个角点！\")\n"
   ]
  }
 ],
 "metadata": {
  "kernelspec": {
   "display_name": "Python 3",
   "language": "python",
   "name": "python3"
  },
  "language_info": {
   "codemirror_mode": {
    "name": "ipython",
    "version": 3
   },
   "file_extension": ".py",
   "mimetype": "text/x-python",
   "name": "python",
   "nbconvert_exporter": "python",
   "pygments_lexer": "ipython3",
   "version": "3.12.4"
  }
 },
 "nbformat": 4,
 "nbformat_minor": 2
}

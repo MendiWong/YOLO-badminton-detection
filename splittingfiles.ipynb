{
 "cells": [
  {
   "cell_type": "code",
   "execution_count": 2,
   "metadata": {},
   "outputs": [
    {
     "name": "stdout",
     "output_type": "stream",
     "text": [
      "数据文件夹组织完成！\n"
     ]
    }
   ],
   "source": [
    "import os\n",
    "import shutil\n",
    "import random\n",
    "\n",
    "# 定义数据集路径\n",
    "source_images_path = 'D:/dataset'  # 原始图片所在目录\n",
    "source_labels_path = 'D:/dataset'  # 原始标注文件目录\n",
    "dataset_path = 'D:/datasetttt'\n",
    "\n",
    "# 创建所需文件夹结构\n",
    "os.makedirs(os.path.join(dataset_path,'images/train'),exist_ok = True)\n",
    "os.makedirs(os.path.join(dataset_path,'images/val'),exist_ok = True)\n",
    "os.makedirs(os.path.join(dataset_path,'labels/train'),exist_ok = True)\n",
    "os.makedirs(os.path.join(dataset_path,'labels/val'),exist_ok = True)\n",
    "\n",
    "# 获取所有图片文件名\n",
    "images = [f for f in os.listdir(source_images_path) if f.endswith('.jpg')]\n",
    "\n",
    "# 分割数据集（80%训练，20%验证）\n",
    "train_images = random.sample(images, int(0.8*len(images)))\n",
    "val_images = [img for img in images if img not in train_images]\n",
    "\n",
    "# 函数：复制文件\n",
    "def copy_files(file_list, source_path, dest_path):\n",
    "    for file in file_list:\n",
    "        shutil.copy(os.path.join(source_path, file),dest_path)\n",
    "\n",
    "# 复制训练集和验证机的图片和标注文件\n",
    "copy_files(train_images, source_images_path, os.path.join(dataset_path,'images/train'))\n",
    "copy_files(val_images, source_images_path, os.path.join(dataset_path,'images/val'))\n",
    "\n",
    "# 复制对应的标注文件\n",
    "for img in train_images:\n",
    "    label_file = img.replace('.jpg','.txt')\n",
    "    shutil.copy(os.path.join(source_labels_path,label_file),os.path.join(dataset_path,'labels/train'))\n",
    "\n",
    "for img in val_images:\n",
    "    label_file = img.replace('.jpg', '.txt')\n",
    "    shutil.copy(os.path.join(source_labels_path, label_file), os.path.join(dataset_path, 'labels/val'))\n",
    "\n",
    "\n",
    "print(\"数据文件夹组织完成！\")"
   ]
  },
  {
   "cell_type": "code",
   "execution_count": null,
   "metadata": {},
   "outputs": [],
   "source": []
  }
 ],
 "metadata": {
  "kernelspec": {
   "display_name": "Python 3",
   "language": "python",
   "name": "python3"
  },
  "language_info": {
   "codemirror_mode": {
    "name": "ipython",
    "version": 3
   },
   "file_extension": ".py",
   "mimetype": "text/x-python",
   "name": "python",
   "nbconvert_exporter": "python",
   "pygments_lexer": "ipython3",
   "version": "3.12.4"
  }
 },
 "nbformat": 4,
 "nbformat_minor": 2
}
